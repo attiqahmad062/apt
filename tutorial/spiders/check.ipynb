{
 "cells": [
  {
   "cell_type": "code",
   "execution_count": null,
   "metadata": {},
   "outputs": [
    {
     "ename": "",
     "evalue": "",
     "output_type": "error",
     "traceback": [
      "\u001b[1;31mRunning cells with 'myenv' requires the ipykernel package.\n",
      "\u001b[1;31mRun the following command to install 'ipykernel' into the Python environment. \n",
      "\u001b[1;31mCommand: '\"c:/Users/WALEED TRADERS/Desktop/FYP/myenv/Scripts/python.exe\" -m pip install ipykernel -U --force-reinstall'"
     ]
    }
   ],
   "source": [
    "print(\"hello world\")"
   ]
  },
  {
   "cell_type": "code",
   "execution_count": null,
   "metadata": {},
   "outputs": [],
   "source": [
    "       # Use CSS selector to target the div with class \"card\"\n",
    "#         box = response.css(\".card\")\n",
    "# #         # Extract text from the div within the box with id \"card-id\"\n",
    "#         box = box.css('.card-body')\n",
    "#         box_text =box.css('div:nth-child(2)::text').getall()\n",
    "#         print(\" box dat is : \",box_text)\n",
    "#         # Extract group_id\n",
    "#         group_id = box_text[1].strip() if len(box_text) > 1 else None\n",
    "\n",
    "#         # Safely extract created_at\n",
    "#         created_at = box_text[11].strip() if len(box_text) > 11 else None\n",
    "\n",
    "#         # Safely extract last_modified\n",
    "#         last_modified = box_text[13].strip() if len(box_text) > 13 else None\n",
    "\n",
    "#         yield {\n",
    "#                 'group_id': group_id,\n",
    "#                 'created_at': created_at,\n",
    "#                 'last_modified': last_modified\n",
    "#             }"
   ]
  }
 ],
 "metadata": {
  "kernelspec": {
   "display_name": "myenv",
   "language": "python",
   "name": "python3"
  },
  "language_info": {
   "codemirror_mode": {
    "name": "ipython",
    "version": 3
   },
   "file_extension": ".py",
   "mimetype": "text/x-python",
   "name": "python",
   "nbconvert_exporter": "python",
   "pygments_lexer": "ipython3",
   "version": "3.11.0"
  }
 },
 "nbformat": 4,
 "nbformat_minor": 2
}
