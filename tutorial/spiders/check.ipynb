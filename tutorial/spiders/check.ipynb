{
 "cells": [
  {
   "cell_type": "code",
   "execution_count": 2,
   "metadata": {},
   "outputs": [],
   "source": [
    "import scrapy\n",
    "class MITREAttackSpider(scrapy.Spider):\n",
    "    name = 'mitreattack'\n",
    "    start_urls = ['https://attack.mitre.org/groups/']\n",
    "    def parse(self, response):\n",
    "        # Extracting data from the table with class name 'table'\n",
    "        table_rows = response.css('table.table tr')\n",
    "        for row in table_rows:\n",
    "            # Extracting data from each column in the row\n",
    "            column1_data = row.css('td:nth-child(1) a::text').get()\n",
    "            column2_data = row.css('td:nth-child(2) a::text').get()\n",
    "            column3_data = row.css('td:nth-child(3)::text').get()\n",
    "            column4_data = row.css('td:nth-child(4) p::text').get()\n",
    "        for link in column1_data:\n",
    "            yield response.follow(link, callback=self.parse_group)\n",
    "        \n",
    "            yield {\n",
    "                'Column1': column1_data.strip() if column1_data else None,\n",
    "                'Column2': column2_data.strip() if column2_data else None,\n",
    "                'Column3': column3_data.strip() if column3_data else None,\n",
    "                'Column4': column4_data.strip() if column4_data else None,\n",
    "                 \n",
    "            }\n",
    "\n"
   ]
  },
  {
   "cell_type": "code",
   "execution_count": 4,
   "metadata": {},
   "outputs": [],
   "source": [
    "    def parse_group(self, response):\n",
    "        # Extracting data from the group page\n",
    "        group_name = response.css('h1::text').get()\n",
    "        description = response.css('div.container p::text').get()\n",
    "\n",
    "        yield {\n",
    "            'Group Name': group_name.strip() if group_name else None,\n",
    "            'Description': description.strip() if description else None,\n",
    "            'URL': response.url\n",
    "        }"
   ]
  },
  {
   "cell_type": "code",
   "execution_count": null,
   "metadata": {},
   "outputs": [],
   "source": []
  }
 ],
 "metadata": {
  "kernelspec": {
   "display_name": "myenv",
   "language": "python",
   "name": "python3"
  },
  "language_info": {
   "codemirror_mode": {
    "name": "ipython",
    "version": 3
   },
   "file_extension": ".py",
   "mimetype": "text/x-python",
   "name": "python",
   "nbconvert_exporter": "python",
   "pygments_lexer": "ipython3",
   "version": "3.11.0"
  }
 },
 "nbformat": 4,
 "nbformat_minor": 2
}
